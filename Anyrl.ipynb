{
  "nbformat": 4,
  "nbformat_minor": 0,
  "metadata": {
    "colab": {
      "name": "Anyrl.ipynb",
      "provenance": [],
      "collapsed_sections": [
        "eqHJZlYAPK0_"
      ],
      "machine_shape": "hm",
      "include_colab_link": true
    },
    "kernelspec": {
      "name": "python3",
      "display_name": "Python 3"
    },
    "accelerator": "GPU"
  },
  "cells": [
    {
      "cell_type": "markdown",
      "metadata": {
        "id": "view-in-github",
        "colab_type": "text"
      },
      "source": [
        "<a href=\"https://colab.research.google.com/github/AyHaski/DL_AtariRainbow/blob/master/Anyrl.ipynb\" target=\"_parent\"><img src=\"https://colab.research.google.com/assets/colab-badge.svg\" alt=\"Open In Colab\"/></a>"
      ]
    },
    {
      "cell_type": "markdown",
      "metadata": {
        "id": "Xm7YwXSflftO",
        "colab_type": "text"
      },
      "source": [
        "\n",
        "<div>\n",
        "<img src=\"https://upload.wikimedia.org/wikipedia/commons/4/45/Alien_pixel.png\" height=\"100\"/>\n",
        "</div>\n",
        "<h1>Deep Reinforcement Learning: Rainbow in Atari Simulator</h1>\n",
        "\n",
        "\n",
        "This notebook is supposed to show how to train an Atari game with the Rainbow Agent for the Deep Learning Seminar at the University of Offenburg.\n",
        "\n",
        "An brief explanation of the agent is provided as well as the code snippets for hyperparameter tuning and training the agent.\n"
      ]
    },
    {
      "cell_type": "code",
      "metadata": {
        "id": "6GzKRIRNUhzh",
        "colab_type": "code",
        "outputId": "4d01fb46-e6bd-44b4-8d61-a5aaf79b2190",
        "colab": {
          "base_uri": "https://localhost:8080/",
          "height": 125
        },
        "cellView": "form"
      },
      "source": [
        "#@title Mount Drive\n",
        "from google.colab import drive\n",
        "drive.mount('/content/drive')"
      ],
      "execution_count": 0,
      "outputs": [
        {
          "output_type": "stream",
          "text": [
            "Go to this URL in a browser: https://accounts.google.com/o/oauth2/auth?client_id=947318989803-6bn6qk8qdgf4n4g3pfee6491hc0brc4i.apps.googleusercontent.com&redirect_uri=urn%3aietf%3awg%3aoauth%3a2.0%3aoob&response_type=code&scope=email%20https%3a%2f%2fwww.googleapis.com%2fauth%2fdocs.test%20https%3a%2f%2fwww.googleapis.com%2fauth%2fdrive%20https%3a%2f%2fwww.googleapis.com%2fauth%2fdrive.photos.readonly%20https%3a%2f%2fwww.googleapis.com%2fauth%2fpeopleapi.readonly\n",
            "\n",
            "Enter your authorization code:\n",
            "··········\n",
            "Mounted at /content/drive\n"
          ],
          "name": "stdout"
        }
      ]
    },
    {
      "cell_type": "markdown",
      "metadata": {
        "id": "5jpZ2iynNO-7",
        "colab_type": "text"
      },
      "source": [
        "The framework used is called [Anyrl-py](https://github.com/unixpickle/anyrl-py). It is a open-source framework for Reinforcement Learning implementing different algorithms."
      ]
    },
    {
      "cell_type": "code",
      "metadata": {
        "id": "hsT1hn__UWop",
        "colab_type": "code",
        "outputId": "1e1b78d8-7bee-437a-81af-3a49a198f823",
        "cellView": "form",
        "colab": {
          "base_uri": "https://localhost:8080/",
          "height": 565
        }
      },
      "source": [
        "#@title Install Packages\n",
        "!pip install anyrl\n",
        "!wget https://bin.equinox.io/c/4VmDzA7iaHb/ngrok-stable-linux-amd64.zip\n",
        "!unzip ngrok-stable-linux-amd64.zip"
      ],
      "execution_count": 6,
      "outputs": [
        {
          "output_type": "stream",
          "text": [
            "Requirement already satisfied: anyrl in /usr/local/lib/python3.6/dist-packages (0.12.23)\n",
            "Requirement already satisfied: pandas<0.24.0,>=0.20.0 in /usr/local/lib/python3.6/dist-packages (from anyrl) (0.23.4)\n",
            "Requirement already satisfied: gym<0.11.0,>=0.9.6 in /usr/local/lib/python3.6/dist-packages (from anyrl) (0.10.11)\n",
            "Requirement already satisfied: numpy<2.0.0,>=1.0.0 in /usr/local/lib/python3.6/dist-packages (from anyrl) (1.17.5)\n",
            "Requirement already satisfied: cloudpickle>=0.4.0 in /usr/local/lib/python3.6/dist-packages (from anyrl) (1.2.2)\n",
            "Requirement already satisfied: python-dateutil>=2.5.0 in /usr/local/lib/python3.6/dist-packages (from pandas<0.24.0,>=0.20.0->anyrl) (2.6.1)\n",
            "Requirement already satisfied: pytz>=2011k in /usr/local/lib/python3.6/dist-packages (from pandas<0.24.0,>=0.20.0->anyrl) (2018.9)\n",
            "Requirement already satisfied: requests>=2.0 in /usr/local/lib/python3.6/dist-packages (from gym<0.11.0,>=0.9.6->anyrl) (2.21.0)\n",
            "Requirement already satisfied: scipy in /usr/local/lib/python3.6/dist-packages (from gym<0.11.0,>=0.9.6->anyrl) (1.4.1)\n",
            "Requirement already satisfied: six in /usr/local/lib/python3.6/dist-packages (from gym<0.11.0,>=0.9.6->anyrl) (1.12.0)\n",
            "Requirement already satisfied: pyglet>=1.2.0 in /usr/local/lib/python3.6/dist-packages (from gym<0.11.0,>=0.9.6->anyrl) (1.3.2)\n",
            "Requirement already satisfied: idna<2.9,>=2.5 in /usr/local/lib/python3.6/dist-packages (from requests>=2.0->gym<0.11.0,>=0.9.6->anyrl) (2.8)\n",
            "Requirement already satisfied: chardet<3.1.0,>=3.0.2 in /usr/local/lib/python3.6/dist-packages (from requests>=2.0->gym<0.11.0,>=0.9.6->anyrl) (3.0.4)\n",
            "Requirement already satisfied: urllib3<1.25,>=1.21.1 in /usr/local/lib/python3.6/dist-packages (from requests>=2.0->gym<0.11.0,>=0.9.6->anyrl) (1.24.3)\n",
            "Requirement already satisfied: certifi>=2017.4.17 in /usr/local/lib/python3.6/dist-packages (from requests>=2.0->gym<0.11.0,>=0.9.6->anyrl) (2019.11.28)\n",
            "Requirement already satisfied: future in /usr/local/lib/python3.6/dist-packages (from pyglet>=1.2.0->gym<0.11.0,>=0.9.6->anyrl) (0.16.0)\n",
            "--2020-01-18 12:53:04--  https://bin.equinox.io/c/4VmDzA7iaHb/ngrok-stable-linux-amd64.zip\n",
            "Resolving bin.equinox.io (bin.equinox.io)... 34.204.156.91, 34.198.126.60, 54.165.216.26, ...\n",
            "Connecting to bin.equinox.io (bin.equinox.io)|34.204.156.91|:443... connected.\n",
            "HTTP request sent, awaiting response... 200 OK\n",
            "Length: 13773305 (13M) [application/octet-stream]\n",
            "Saving to: ‘ngrok-stable-linux-amd64.zip’\n",
            "\n",
            "ngrok-stable-linux- 100%[===================>]  13.13M  67.0MB/s    in 0.2s    \n",
            "\n",
            "2020-01-18 12:53:05 (67.0 MB/s) - ‘ngrok-stable-linux-amd64.zip’ saved [13773305/13773305]\n",
            "\n",
            "Archive:  ngrok-stable-linux-amd64.zip\n",
            "  inflating: ngrok                   \n"
          ],
          "name": "stdout"
        }
      ]
    },
    {
      "cell_type": "markdown",
      "metadata": {
        "id": "eqHJZlYAPK0_",
        "colab_type": "text"
      },
      "source": [
        "# Explanation: Rainbow Agent\n",
        "The Rainbow Agent combines different variants and extensions of DQN (Deep Q-learning Network). To get an understanding of the agent a quick explanation of Q-learning, DQN itself and its extentions are in the following text sections."
      ]
    },
    {
      "cell_type": "markdown",
      "metadata": {
        "id": "YrqHsWt3QiZD",
        "colab_type": "text"
      },
      "source": [
        "## Q-learning\n",
        "\n",
        "Q-learning is a category of model-free temporal-difference learning. It tries to find a policy to take the best action at a specific state to get a maximum future reward. It's called Q-learning because it calculates the quality of a action-state value pair. For that it will take the reward of the current step and add the estimated discounted max future reward.\n",
        "The discount factor determines how important the values of the timestep after the curent are.\n",
        "The function looks as follows:\n",
        "</br>\n",
        "</br>\n",
        "![alt text](https://cdn-media-1.freecodecamp.org/images/TnN7ys7VGKoDszzv3WDnr5H8txOj3KKQ0G8o)\n",
        "</br>\n",
        "</br>\n",
        "When the problem is small all the different combinations of actions and state can be saved in so called Q-table, which basically functions as a cheat sheet to determine the best next action. The bigger the problem the bigger the table gets. This lead to the development to combine deep neural network with the Q-Function."
      ]
    },
    {
      "cell_type": "markdown",
      "metadata": {
        "id": "ZWqnQRUknkZK",
        "colab_type": "text"
      },
      "source": [
        "##DQN"
      ]
    },
    {
      "cell_type": "markdown",
      "metadata": {
        "id": "Bzd6y-GWQkiK",
        "colab_type": "text"
      },
      "source": [
        "DQN represents the Q-function of Q-learning with a deep neural network. \n",
        "The details of the DQN was featured in the [nature paper](https://web.stanford.edu/class/psych209/Readings/MnihEtAlHassibis15NatureControlDeepRL.pdf), which also includes this image.\n",
        "</br></br>\n",
        "![alt text](https://media.springernature.com/full/springer-static/image/art%3A10.1038%2Fnature14236/MediaObjects/41586_2015_Article_BFnature14236_Fig1_HTML.jpg)\n",
        "</br></br>\n",
        "\n",
        "The network itself takes 4 input images of the game, so the movement of the game is visible. The images go through 3 convulotional layers and 2 fully connected layers at the end. The final ouput of the network are the actions of the atari game, 18 in total.\n",
        "\n",
        "In DQN three important things were introdruced to the Q-learning Algorithm.\n",
        "\n",
        "><h3> 1. ϵ-greedy strategy</h3>\n",
        "\n",
        "At the beginning of training the way actions are chosen is explorativ, because in the beginning it's not clear which action will yield the best reward. So the get a lot of knowledge of the different state-action values Q-Value, exploration is favored.\n",
        "</br>\n",
        "\n",
        "After some time training the strategy of choosing actions is changed to exploitation. The actions with the best rewards are more often choosen. The combination of the strategies enables a more stable learning.\n",
        "\n",
        "> <h3> 2. Experience replay buffer</h3> \n",
        "\n",
        "The transistion are saved into a buffer during training. In the Rainbow Agent the last million transisitions are saved. Random mini batches are taken from the buffer to be the input data for the next training loop. This leads to no forgotten experiences and reduces the correlations between experiences.\n",
        "\n",
        "> <h3> 3. Online and Target Network</h3> \n",
        "\n",
        "The current Q-value and the future max reward which is the goal of the training are calculated with the same parameters in normal Q-learning. This leads to correlations between the two values. Is the current Q-value updated, the future reward is updated with the same parameters leading to a moving target reward. This is bad as the target reward will never be reached.\n",
        "<br>\n",
        "To fix this two networks are introduced: an online and target network. The online network is responsible for calculating the current Q-values and updating the parameters during training while the target network only updates periodically through copying the online network. \n",
        "<br>\n",
        "\n",
        "The Q-function in DQN looks like the following, which determines the Q-loss:\n",
        "\n",
        ">$R_{t+1} + \\gamma_{t+1}max q_{\\bar{\\theta}}(S_{t+1},a')-q_{{\\theta}}(S_{t},A_{t}))^2$\n",
        "\n",
        "---\n",
        "### Extentions and Variants of DQN\n",
        "\n",
        "### Double DQN\n",
        "\n",
        "In Double DQN the action selection and evaluation of the action is split. This leads to more stable learning and counters the overerstimation bias of normal DQN, which stems from the maximization step. The Q-loss is changed to represent this:\n",
        "\n",
        ">$R_{t+1} + \\gamma_{t+1}q_{\\bar{\\theta}}(S_{t+1},argmax (S_{t+1},a'))-q_{{\\theta}}(S_{t},A_{t}))^2$\n",
        "\n",
        "---\n",
        "\n",
        "### Muli-Step DQN\n",
        "\n",
        "Normally DQN only calculates for one step one reward. In muli-step DQN *n* steps are calculated and *n* rewards are being returned. This leads to significantly faster learning:\n",
        "\n",
        ">$R_{t}^{(n)} + \\gamma_{t}^{(n)}max q_{\\bar{\\theta}}(S_{t+n},a')-q_{{\\theta}}(S_{t},A_{t}))^2$\n",
        "\n",
        "---\n",
        "\n",
        "### Prioritized Replay Buffer\n",
        "\n",
        "The samples of the replay buffer are normally randomly sampled. In the case of the prioritized replay buffer, the transistions with high Q-loss are prioritized as these transistions are the ones, from which the most can be learned.\n",
        "\n",
        "---\n",
        "\n",
        "### Dueling Architecture\n",
        "\n",
        "There are two streams in the dueling architecture. One stream calculates the value of a state $V(s)$, while the other stream calculates the advantage of an action over other actions at a specific state $A(s,a)$. This leads to not having to calculate all actions for a state which isn't valuable as any action in that state wouldn't impact the game.\n",
        "The two streams are later aggregated through a special aggregation layer to get an estimate of $Q(s,a)$. When aggregating the two streams a simple addition of the two values wouldn't suffice as that way $V(s)$ and $A(s,a)$ themselve can't be identified in the backpropagation. Through subtraction the average advantage of all actions of the specific state, the problem can be avoided.\n",
        "\n",
        "---\n",
        "\n",
        "### Distributional RL\n",
        "\n",
        "Normally the average estimated Q-value is used as target​. But using the average Q-values are not that accurate as the Q-value can be diverse in different situations. Instead of using the average Q-value distributional reinforcement learning is used to learn the distribution of Q-values. The resulting loss is the *Kullback-Leibler* divergence.\n",
        "\n",
        "---\n",
        "\n",
        "### Noisy Nets\n",
        "\n",
        "Noisy Nets can be used to replace the ϵ-greedy strategy for the action selection. It adds noise to all linear layers which leads to changes in the exploration rate automatically. During training itself the agent can learn to ignore the noise."
      ]
    },
    {
      "cell_type": "markdown",
      "metadata": {
        "id": "eYbavM7BZ2H8",
        "colab_type": "text"
      },
      "source": [
        "## Rainbow Agent\n",
        "\n",
        "The Rainbow Agent combines all of the 6 variants and extensions of DQN, creating a new state of the art agent which plays atari games better then all other subcombinations of DQN. The agent \n",
        "replaces the 1-step distributional loss with a multi-step variant​ and combines this with Double DQN. For the replay buffer a proportional prioritized replay is used which prioritizes transistions by the *KL* loss. The dueling network is adapted for use with the return of the distribution learning. At last all linear layers are replaced with a noisy net equivalent.\n",
        "<br>\n",
        "The following graph show the improvments of the score in atari games.\n",
        "\n",
        "![alt text](https://media.arxiv-vanity.com/render-output/1731808/x1.png)\n",
        "\n",
        "<br>\n",
        "\n"
      ]
    },
    {
      "cell_type": "markdown",
      "metadata": {
        "id": "kru-aYTU8sps",
        "colab_type": "text"
      },
      "source": [
        "#Settings"
      ]
    },
    {
      "cell_type": "markdown",
      "metadata": {
        "id": "X-GCyt6c8-ss",
        "colab_type": "text"
      },
      "source": [
        "\n",
        "When using the Rainbow Agent a lot of hyperparameters need to be set. "
      ]
    },
    {
      "cell_type": "markdown",
      "metadata": {
        "id": "4EMKo2kZ55nR",
        "colab_type": "text"
      },
      "source": [
        "## General Parameters\n",
        "\n",
        "This sections is for general settings like the save path and which game to train.\n",
        "<br>\n",
        "\n",
        "*  **RUN_RESTORE** - the run number to restore\n",
        "*  **RUN_NUM** - stand for subrun of one big run if the training sessions want to be split.\n",
        "*  **path** - path to save data to\n",
        "*  **restore** - to load saved model and transition\n",
        "*  **game** - game to train\n",
        "*  **workers** - how many workers should work in the env"
      ]
    },
    {
      "cell_type": "code",
      "metadata": {
        "id": "Kswz0Ca1Bi20",
        "colab_type": "code",
        "cellView": "form",
        "colab": {}
      },
      "source": [
        "#@title Organisation settings\n",
        "\n",
        "RUN='1' #@param {type: \"string\"}\n",
        "RUN_RESTORE='1_1' #@param {type: \"string\"}\n",
        "RUN_NUM='1_1' #@param {type: \"string\"}\n",
        "path='/tmp/anyrl_rainbow' #@param {type: \"string\"}\n",
        "restore=False #@param {type: \"boolean\"}\n",
        "\n"
      ],
      "execution_count": 0,
      "outputs": []
    },
    {
      "cell_type": "code",
      "metadata": {
        "id": "84-jkbYk3Vnx",
        "colab_type": "code",
        "colab": {},
        "cellView": "form"
      },
      "source": [
        "#@title Training settings\n",
        "\n",
        "game='SpaceInvaders' #@param\n",
        "workers=8 #@param {type: \"integer\"}\n",
        "\n",
        "\n",
        "\n",
        "\n",
        "\n",
        "\n",
        "\n",
        "\n"
      ],
      "execution_count": 0,
      "outputs": []
    },
    {
      "cell_type": "markdown",
      "metadata": {
        "id": "NmNV4Xj854aR",
        "colab_type": "text"
      },
      "source": [
        "## Hyperparameters\n",
        "\n",
        "The next sections is for setting the hyperparameters. The parameters are split into groups of the specific extension of the Rainbow algorithm for a clearer overview.\n"
      ]
    },
    {
      "cell_type": "markdown",
      "metadata": {
        "id": "QZrmWbtvcHsq",
        "colab_type": "text"
      },
      "source": [
        "The default values of the rainbow agent are:\n",
        "```\n",
        "lr=6.25e-5 \n",
        "num_steps=6000000 \n",
        "train_interval=4 \n",
        "batch_size=32 \n",
        "target_interval=8192 \n",
        "num_atoms=51 \n",
        "v_min=-10 \n",
        "v_max=10 \n",
        "n_step=3 \n",
        "min_buffer_size=20000 \n",
        "buffer_size=1000000 \n",
        "replay_epsilon=0.1 \n",
        "replay_alpha=0.5 \n",
        "replay_beta=0.4 \n",
        "```\n",
        "\n",
        "\n",
        "\n"
      ]
    },
    {
      "cell_type": "markdown",
      "metadata": {
        "id": "gcFHV5e_dlbp",
        "colab_type": "text"
      },
      "source": [
        "### Training Parameters\n",
        "The Rainbow Agent uses the AdamOptimizer. \n",
        "* **lr**  - learning rate\n",
        "* **num_steps** - amount of steps to learn\n",
        "* **train_interval** - impacts the learning speed. Basically every 4 steps the networkt learns. \n",
        "* **batch_size** - input dataset; the amount to sample from the transitions\n",
        "* **target_interval** -  is the period between update of the online and target network"
      ]
    },
    {
      "cell_type": "code",
      "metadata": {
        "id": "gAjBuKRc5Yd_",
        "colab_type": "code",
        "colab": {},
        "cellView": "form"
      },
      "source": [
        "lr=6.25e-5 #@param {type:\"number\"}\n",
        "num_steps=6000000 #@param {type: \"integer\"}\n",
        "train_interval=4 #@param {type: \"integer\"}\n",
        "batch_size=32 #@param {type: \"integer\"}\n",
        "target_interval=8192 #@param {type: \"integer\"}"
      ],
      "execution_count": 0,
      "outputs": []
    },
    {
      "cell_type": "markdown",
      "metadata": {
        "id": "JWIGQpmLe30q",
        "colab_type": "text"
      },
      "source": [
        "### Distributional Parameters\n",
        "*  **num_atoms** - number of atoms in the distribution\n",
        "*  **v_min** - lowest value of the distribution\n",
        "*  **v_max** - highest value of the distribution"
      ]
    },
    {
      "cell_type": "code",
      "metadata": {
        "id": "f8xm96Yy5VnW",
        "colab_type": "code",
        "colab": {},
        "cellView": "form"
      },
      "source": [
        "\n",
        "num_atoms=51 #@param {type: \"integer\"}\n",
        "v_min=-10 #@param {type: \"integer\"}\n",
        "v_max=10 #@param {type: \"integer\"}"
      ],
      "execution_count": 0,
      "outputs": []
    },
    {
      "cell_type": "markdown",
      "metadata": {
        "id": "HMlifxgjfqDt",
        "colab_type": "text"
      },
      "source": [
        "### Multi-Step Parameters\n",
        "\n",
        "\n",
        "*   **n_step** - amount of steps to take in multi-step\n",
        "\n"
      ]
    },
    {
      "cell_type": "code",
      "metadata": {
        "id": "skj9h2eB5UEJ",
        "colab_type": "code",
        "colab": {},
        "cellView": "form"
      },
      "source": [
        "n_step=3 #@param {type: \"integer\"}"
      ],
      "execution_count": 0,
      "outputs": []
    },
    {
      "cell_type": "markdown",
      "metadata": {
        "id": "UBty-zR4diIM",
        "colab_type": "text"
      },
      "source": [
        "###Replay Buffer Parameters\n",
        "It's supposed to start learning after 80000 frames passed and the transistions saved. As the input of the network are four frames at once, this means one step equals four frames. This means after 20000 steps training can start. The buffer_size is normally 1000000 but as this means a big size to save it was reduced.\n",
        "\n",
        "*   **min_buffer_size** - min size to start learning\n",
        "*   **buffer_size** - size of buffer saving transistions\n",
        "*   **replay_epsilon** - value added to every error term\n",
        "*   **replay_alpha** - controlling the temperature. Higher values result in more prioritization. A value of 0 yields uniform prioritization\n",
        "*   **replay_beta** - controlling amount of importance sampling.A value of 1 yields unbiased sampling. A value of 0 yields no importance sampling"
      ]
    },
    {
      "cell_type": "code",
      "metadata": {
        "id": "YM7eCOHr4was",
        "colab_type": "code",
        "colab": {},
        "cellView": "form"
      },
      "source": [
        "min_buffer_size=20000 #@param {type: \"integer\"}\n",
        "buffer_size=500000 #@param {type: \"integer\"}\n",
        "replay_epsilon=0.1 #@param {type:\"number\"}\n",
        "replay_alpha=0.5 #@param {type:\"number\"}\n",
        "replay_beta=0.4 #@param {type:\"number\"}"
      ],
      "execution_count": 0,
      "outputs": []
    },
    {
      "cell_type": "markdown",
      "metadata": {
        "id": "GBbH049m27SH",
        "colab_type": "text"
      },
      "source": [
        "# Modified Code"
      ]
    },
    {
      "cell_type": "markdown",
      "metadata": {
        "id": "GUb0WpT9K_4n",
        "colab_type": "text"
      },
      "source": [
        "The replay buffer of the framework was modified to save the amount of transisitions in the replay buffer, which size was specified in the parameter the hyperparameter section. This way the training can be continued at a later time.\n",
        "The original buffer can be found at:\n",
        "https://github.com/unixpickle/anyrl-py/blob/master/anyrl/rollouts/replay.py\n"
      ]
    },
    {
      "cell_type": "code",
      "metadata": {
        "id": "BGFWQ9KT27u9",
        "colab_type": "code",
        "cellView": "form",
        "colab": {}
      },
      "source": [
        "#@title Modified Replay Buffer Code\n",
        "\"\"\"\n",
        "Various replay buffer implementations.\n",
        "\"\"\"\n",
        "\n",
        "from math import sqrt\n",
        "import random\n",
        "import pickle\n",
        "from anyrl.rollouts import ReplayBuffer\n",
        "import numpy as np\n",
        "\n",
        "class ModifiedPrioritizedReplayBuffer(ReplayBuffer):\n",
        "    \"\"\"\n",
        "    A prioritized replay buffer with loss-proportional\n",
        "    sampling.\n",
        "    Weights passed to add_sample() and update_weights()\n",
        "    are assumed to be error terms (e.g. the absolute TD\n",
        "    error).\n",
        "    \"\"\"\n",
        "\n",
        "    def __init__(self, capacity, alpha, beta, first_max=1, epsilon=0):\n",
        "        \"\"\"\n",
        "        Create a prioritized replay buffer.\n",
        "        The beta parameter can be any object that has\n",
        "        support for the float() built-in.\n",
        "        This way, you can use a TFScheduleValue.\n",
        "        Args:\n",
        "          capacity: the maximum number of transitions to\n",
        "            store in the buffer.\n",
        "          alpha: an exponent controlling the temperature.\n",
        "            Higher values result in more prioritization.\n",
        "            A value of 0 yields uniform prioritization.\n",
        "          beta: an exponent controlling the amount of\n",
        "            importance sampling. A value of 1 yields\n",
        "            unbiased sampling. A value of 0 yields no\n",
        "            importance sampling.\n",
        "          first_max: the initial weight for new samples\n",
        "            when no init_weight is specified and the\n",
        "            buffer is completely empty.\n",
        "          epsilon: a value which is added to every error\n",
        "            term before the error term is used.\n",
        "        \"\"\"\n",
        "        self.capacity = capacity\n",
        "        self.alpha = alpha\n",
        "        self.beta = beta\n",
        "        self.epsilon = epsilon\n",
        "        self.transitions = []\n",
        "        self.errors = FloatBuffer(capacity)\n",
        "        self._max_weight_arg = first_max\n",
        "\n",
        "    @property\n",
        "    def size(self):\n",
        "        return len(self.transitions)\n",
        "\n",
        "    def sample(self, num_samples):\n",
        "        indices, probs = self.errors.sample(num_samples)\n",
        "        beta = float(self.beta)\n",
        "        importance_weights = np.power(probs * self.size, -beta)\n",
        "        importance_weights /= np.power(self.errors.min() / self.errors.sum() * self.size, -beta)\n",
        "        samples = []\n",
        "        for i, weight in zip(indices, importance_weights):\n",
        "            sample = self.transitions[i].copy()\n",
        "            sample['weight'] = weight\n",
        "            sample['id'] = i\n",
        "            samples.append(sample)\n",
        "        return samples\n",
        "\n",
        "    def add_sample(self, sample, init_weight=None):\n",
        "        \"\"\"\n",
        "        Add a sample to the buffer.\n",
        "        When new samples are added without an explicit\n",
        "        initial weight, the maximum weight argument ever\n",
        "        seen is used. When the buffer is empty, first_max\n",
        "        is used.\n",
        "        \"\"\"\n",
        "        self.transitions.append(sample)\n",
        "        if init_weight is None:\n",
        "            self.errors.append(self._process_weight(self._max_weight_arg))\n",
        "        else:\n",
        "            self.errors.append(self._process_weight(init_weight))\n",
        "        while len(self.transitions) > self.capacity:\n",
        "            del self.transitions[0]\n",
        "\n",
        "    def update_weights(self, samples, new_weights):\n",
        "        for sample, weight in zip(samples, new_weights):\n",
        "            self.errors.set_value(sample['id'], self._process_weight(weight))\n",
        "\n",
        "    def _process_weight(self, weight):\n",
        "        self._max_weight_arg = max(self._max_weight_arg, weight)\n",
        "        return (weight + self.epsilon) ** self.alpha\n",
        "\n",
        "    \"\"\"\n",
        "    The two functions were added to save the transitions\n",
        "    \"\"\"\n",
        "    #saving replay buffer to pickle file\n",
        "    def save_samples(self):\n",
        "        print(\"saving transitions: \",len(self.transitions))\n",
        "        with open(path+'/'+RUN+'/transitions_'+RUN_NUM+'.p','wb') as handle:\n",
        "            pickle.dump(self.transitions,handle,protocol=pickle.HIGHEST_PROTOCOL)\n",
        "\n",
        "    #loading replay buffer from pickle file\n",
        "     #have to add sample by sample due to populating the errors into the FloatBuffer (self.errors)\n",
        "    def load_samples(self):\n",
        "        temp_trans = pickle.load(open(path+'/'+RUN+\"/transitions_\"+RUN_RESTORE+\".p\",\"rb\"))\n",
        "        for i in temp_trans:\n",
        "            self.add_sample(i)\n",
        "        print(\"loaded transitions: \",len(self.transitions))\n",
        "\n",
        "class FloatBuffer:\n",
        "    \"\"\"A ring-buffer of floating point values.\"\"\"\n",
        "\n",
        "    def __init__(self, capacity, dtype='float64'):\n",
        "        self._capacity = capacity\n",
        "        self._start = 0\n",
        "        self._used = 0\n",
        "        self._buffer = np.zeros((capacity,), dtype=dtype)\n",
        "        self._bin_size = int(sqrt(capacity))\n",
        "        num_bins = capacity // self._bin_size\n",
        "        if num_bins * self._bin_size < capacity:\n",
        "            num_bins += 1\n",
        "        self._bin_sums = np.zeros((num_bins,), dtype=dtype)\n",
        "        self._min = 0\n",
        "\n",
        "    def append(self, value):\n",
        "        \"\"\"\n",
        "        Add a value to the end of the buffer.\n",
        "        If the buffer is full, the first value is removed.\n",
        "        \"\"\"\n",
        "        idx = (self._start + self._used) % self._capacity\n",
        "        if self._used < self._capacity:\n",
        "            self._used += 1\n",
        "        else:\n",
        "            self._start = (self._start + 1) % self._capacity\n",
        "        self._set_idx(idx, value)\n",
        "\n",
        "    def sample(self, num_values):\n",
        "        \"\"\"\n",
        "        Sample indices in proportion to their value.\n",
        "        Returns:\n",
        "          A tuple (indices, probs)\n",
        "        \"\"\"\n",
        "        assert self._used >= num_values\n",
        "        res = []\n",
        "        probs = []\n",
        "        bin_probs = self._bin_sums / np.sum(self._bin_sums)\n",
        "        while len(res) < num_values:\n",
        "            bin_idx = np.random.choice(len(self._bin_sums), p=bin_probs)\n",
        "            bin_values = self._bin(bin_idx)\n",
        "            sub_probs = bin_values / np.sum(bin_values)\n",
        "            sub_idx = np.random.choice(len(bin_values), p=sub_probs)\n",
        "            idx = bin_idx * self._bin_size + sub_idx\n",
        "            res.append(idx)\n",
        "            probs.append(bin_probs[bin_idx] * sub_probs[sub_idx])\n",
        "        return (np.array(list(res)) - self._start) % self._capacity, np.array(probs)\n",
        "\n",
        "    def set_value(self, idx, value):\n",
        "        \"\"\"Set the value at the given index.\"\"\"\n",
        "        idx = (idx + self._start) % self._capacity\n",
        "        self._set_idx(idx, value)\n",
        "\n",
        "    def min(self):\n",
        "        \"\"\"Get the minimum value in the buffer.\"\"\"\n",
        "        return self._min\n",
        "\n",
        "    def sum(self):\n",
        "        \"\"\"Get the sum of the values in the buffer.\"\"\"\n",
        "        return np.sum(self._bin_sums)\n",
        "\n",
        "    def _set_idx(self, idx, value):\n",
        "        assert not np.isnan(value)\n",
        "        assert value > 0\n",
        "        needs_recompute = False\n",
        "        if self._min == self._buffer[idx]:\n",
        "            needs_recompute = True\n",
        "        elif value < self._min:\n",
        "            self._min = value\n",
        "        bin_idx = idx // self._bin_size\n",
        "        self._buffer[idx] = value\n",
        "        self._bin_sums[bin_idx] = np.sum(self._bin(bin_idx))\n",
        "        if needs_recompute:\n",
        "            self._recompute_min()\n",
        "\n",
        "    def _bin(self, bin_idx):\n",
        "        if bin_idx == len(self._bin_sums) - 1:\n",
        "            return self._buffer[self._bin_size * bin_idx:]\n",
        "        return self._buffer[self._bin_size * bin_idx:self._bin_size * (bin_idx + 1)]\n",
        "\n",
        "    def _recompute_min(self):\n",
        "        if self._used < self._capacity:\n",
        "            self._min = np.min(self._buffer[:self._used])\n",
        "        else:\n",
        "            self._min = np.min(self._buffer)"
      ],
      "execution_count": 0,
      "outputs": []
    },
    {
      "cell_type": "markdown",
      "metadata": {
        "id": "7rmQG7AZ28a5",
        "colab_type": "text"
      },
      "source": [
        "In the training loop a code section to record the values of different parameters where added. In specific the discount, weight, losses and rewards while training.\n",
        "The original code can be found at:\n",
        "https://github.com/unixpickle/anyrl-py/blob/master/anyrl/algos/dqn.py"
      ]
    },
    {
      "cell_type": "code",
      "metadata": {
        "id": "q28xoaCVBFG_",
        "colab_type": "code",
        "cellView": "form",
        "colab": {}
      },
      "source": [
        "#@title Modified DQN Code\n",
        "%tensorflow_version 1.x\n",
        "import time\n",
        "\n",
        "import tensorflow as tf\n",
        "\n",
        "\n",
        "class DQN:\n",
        "    \"\"\"\n",
        "    Train TFQNetwork models using Q-learning.\n",
        "    \"\"\"\n",
        "\n",
        "    def __init__(self, online_net, target_net, discount=0.99):\n",
        "        \"\"\"\n",
        "        Create a Q-learning session.\n",
        "        Args:\n",
        "          online_net: the online TFQNetwork.\n",
        "          target_net: the target TFQNetwork.\n",
        "          discount: the per-step discount factor.\n",
        "        \"\"\"\n",
        "        self.online_net = online_net\n",
        "        self.target_net = target_net\n",
        "        self.discount = discount\n",
        "\n",
        "        obs_shape = (None,) + online_net.obs_vectorizer.out_shape\n",
        "        self.obses_ph = tf.placeholder(online_net.input_dtype, shape=obs_shape)\n",
        "        self.actions_ph = tf.placeholder(tf.int32, shape=(None,))\n",
        "        self.rews_ph = tf.placeholder(tf.float32, shape=(None,))\n",
        "        self.new_obses_ph = tf.placeholder(online_net.input_dtype, shape=obs_shape)\n",
        "        self.terminals_ph = tf.placeholder(tf.bool, shape=(None,))\n",
        "        self.discounts_ph = tf.placeholder(tf.float32, shape=(None,))\n",
        "        self.weights_ph = tf.placeholder(tf.float32, shape=(None,))\n",
        "\n",
        "        losses = online_net.transition_loss(target_net, self.obses_ph, self.actions_ph,\n",
        "                                            self.rews_ph, self.new_obses_ph, self.terminals_ph,\n",
        "                                            self.discounts_ph)\n",
        "        self.losses = self.weights_ph * losses\n",
        "        self.loss = tf.reduce_mean(self.losses)\n",
        "\n",
        "        assigns = []\n",
        "        for dst, src in zip(target_net.variables, online_net.variables):\n",
        "            assigns.append(tf.assign(dst, src))\n",
        "        self.update_target = tf.group(*assigns)\n",
        "\n",
        "    def feed_dict(self, transitions):\n",
        "        \"\"\"\n",
        "        Generate a feed_dict that feeds the batch of\n",
        "        transitions to the DQN loss terms.\n",
        "        Args:\n",
        "          transition: a sequence of transition dicts, as\n",
        "            defined in anyrl.rollouts.ReplayBuffer.\n",
        "        Returns:\n",
        "          A dict which can be fed to tf.Session.run().\n",
        "        \"\"\"\n",
        "        obs_vect = self.online_net.obs_vectorizer\n",
        "        res = {\n",
        "            self.obses_ph: obs_vect.to_vecs([t['obs'] for t in transitions]),\n",
        "            self.actions_ph: [t['model_outs']['actions'][0] for t in transitions],\n",
        "            self.rews_ph: [self._discounted_rewards(t['rewards']) for t in transitions],\n",
        "            self.terminals_ph: [t['new_obs'] is None for t in transitions],\n",
        "            self.discounts_ph: [(self.discount ** len(t['rewards'])) for t in transitions],\n",
        "            self.weights_ph: [t['weight'] for t in transitions]\n",
        "        }\n",
        "        new_obses = []\n",
        "        for trans in transitions:\n",
        "            if trans['new_obs'] is None:\n",
        "                new_obses.append(trans['obs'])\n",
        "            else:\n",
        "                new_obses.append(trans['new_obs'])\n",
        "        res[self.new_obses_ph] = obs_vect.to_vecs(new_obses)\n",
        "        return res\n",
        "\n",
        "    def optimize(self, learning_rate=6.25e-5, epsilon=1.5e-4, **adam_kwargs):\n",
        "        \"\"\"\n",
        "        Create a TF Op that optimizes the objective.\n",
        "        Args:\n",
        "          learning_rate: the Adam learning rate.\n",
        "          epsilon: the Adam epsilon.\n",
        "        \"\"\"\n",
        "        optim = tf.train.AdamOptimizer(learning_rate=learning_rate, epsilon=epsilon, **adam_kwargs)\n",
        "        return optim.minimize(self.loss)\n",
        "\n",
        "    def train(self,\n",
        "              num_steps,\n",
        "              player,\n",
        "              replay_buffer,\n",
        "              optimize_op,\n",
        "              train_interval=1,\n",
        "              target_interval=8192,\n",
        "              batch_size=32,\n",
        "              min_buffer_size=20000,\n",
        "              tf_schedules=(),\n",
        "              handle_ep=lambda steps, rew: None,\n",
        "              timeout=None):\n",
        "        \"\"\"\n",
        "        Run an automated training loop.\n",
        "        This is meant to provide a convenient way to run a\n",
        "        standard training loop without any modifications.\n",
        "        You may get more flexibility by writing your own\n",
        "        training loop.\n",
        "        Args:\n",
        "          num_steps: the number of timesteps to run.\n",
        "          player: the Player for gathering experience.\n",
        "          replay_buffer: the ReplayBuffer for experience.\n",
        "          optimize_op: a TF Op to optimize the model.\n",
        "          train_interval: timesteps per training step.\n",
        "          target_interval: number of timesteps between\n",
        "            target network updates.\n",
        "          batch_size: the size of experience mini-batches.\n",
        "          min_buffer_size: minimum replay buffer size\n",
        "            before training is performed.\n",
        "          tf_schedules: a sequence of TFSchedules that are\n",
        "            updated with the number of steps taken.\n",
        "          handle_ep: called with information about every\n",
        "            completed episode.\n",
        "          timeout: if set, this is a number of seconds\n",
        "            after which the training loop should exit.\n",
        "        \"\"\"\n",
        "        \n",
        "        \n",
        "        sess = self.online_net.session\n",
        "        \n",
        "        \"\"\"\n",
        "        This section was added to record the values\n",
        "        \"\"\"\n",
        "        tnrewsph = tf.summary.scalar(name='rews_ph', tensor=tf.reduce_mean(self.rews_ph))\n",
        "        tndiscountsph = tf.summary.scalar(name='discounts_ph', tensor=tf.reduce_mean(self.discounts_ph))\n",
        "        tnweightsph = tf.summary.scalar(name='weights_ph', tensor=tf.reduce_mean(self.weights_ph))\n",
        "        tnlosses = tf.summary.scalar(name='losses', tensor=tf.reduce_mean(self.losses))\n",
        "        merge = tf.summary.merge([tnrewsph,tndiscountsph,tnweightsph,tnlosses])\n",
        "        train_writer = tf.summary.FileWriter( path+'/'+RUN+'/logs/'+ RUN_NUM +'/train', sess.graph)\n",
        "        \n",
        "        \n",
        "        sess.run(self.update_target)\n",
        "        steps_taken = 0\n",
        "        next_target_update = target_interval\n",
        "        next_train_step = train_interval\n",
        "        start_time = time.time()\n",
        "\n",
        "        if restore:\n",
        "          replay_buffer.load_samples()\n",
        "\n",
        "        while steps_taken < num_steps:\n",
        "            if timeout is not None and time.time() - start_time > timeout:\n",
        "                return\n",
        "            transitions = player.play()\n",
        "            for trans in transitions:\n",
        "                if trans['is_last']:\n",
        "                    handle_ep(trans['episode_step'] + 1, trans['total_reward'], trans['episode_id'])\n",
        "                replay_buffer.add_sample(trans)\n",
        "                steps_taken += 1\n",
        "                for sched in tf_schedules:\n",
        "                    sched.add_time(sess, 1)\n",
        "                if replay_buffer.size >= min_buffer_size and steps_taken >= next_train_step:\n",
        "                    next_train_step = steps_taken + train_interval\n",
        "                    batch = replay_buffer.sample(batch_size)\n",
        "                    \n",
        "                    _, losses, summary = sess.run((optimize_op, self.losses, merge),\n",
        "                                         feed_dict=self.feed_dict(batch))\n",
        "                    \n",
        "                    train_writer.add_summary(summary, steps_taken)\n",
        "                    replay_buffer.update_weights(batch, losses)\n",
        "                    \n",
        "                if steps_taken >= next_target_update:\n",
        "                    next_target_update = steps_taken + target_interval\n",
        "                    sess.run(self.update_target)\n",
        "                if (steps_taken % 100000 ==0):\n",
        "                   replay_buffer.save_samples()\n",
        "        replay_buffer.save_samples()\n",
        "\n",
        "    def _discounted_rewards(self, rews):\n",
        "        res = 0\n",
        "        for i, rew in enumerate(rews):\n",
        "            res += rew * (self.discount ** i)\n",
        "        return res"
      ],
      "execution_count": 0,
      "outputs": []
    },
    {
      "cell_type": "markdown",
      "metadata": {
        "id": "cQDjfSEC26UV",
        "colab_type": "text"
      },
      "source": [
        "# Training"
      ]
    },
    {
      "cell_type": "markdown",
      "metadata": {
        "id": "5K2gkzIdSCbX",
        "colab_type": "text"
      },
      "source": [
        "The training loop was modified to allow recoding of videos while training as well as saving parameters and rewards of each epiode in the training process. An ouput is printed every 10 episodes with the episode id and the mean of the last 10 episodes. "
      ]
    },
    {
      "cell_type": "code",
      "metadata": {
        "colab_type": "code",
        "outputId": "cc2c632d-bd29-4821-8f86-39774d2b34a2",
        "cellView": "form",
        "id": "_NF0GLaDM4bL",
        "colab": {
          "base_uri": "https://localhost:8080/",
          "height": 728
        }
      },
      "source": [
        "#@title DQN Train\n",
        "%tensorflow_version 1.x\n",
        "\n",
        "import tensorflow as tf\n",
        "import os\n",
        "import time\n",
        "from gym.wrappers import Monitor\n",
        "from functools import partial\n",
        "from anyrl.envs import batched_gym_env,BatchedGymEnv\n",
        "from anyrl.envs.wrappers import BatchedFrameStack, DownsampleEnv, GrayscaleEnv\n",
        "from anyrl.models import rainbow_models\n",
        "from anyrl.rollouts import BatchedPlayer, NStepPlayer\n",
        "from anyrl.spaces import gym_space_vectorizer\n",
        "from anyrl.utils import tf_state\n",
        "import gym\n",
        "import numpy as np\n",
        "\n",
        "REWARD_HISTORY = 10\n",
        "\n",
        "def wrap_env(env):\n",
        "  env = Monitor(env, path+'/'+RUN+'/videos/'+RUN_NUM, force=True )\n",
        "  return env\n",
        "\n",
        "def make_env():\n",
        "    \"\"\"\n",
        "    Create an environment with some standard wrappers.\n",
        "    \"\"\"\n",
        "    env = wrap_env(gym.make(game+'-v0'))\n",
        "    env = GrayscaleEnv(DownsampleEnv(env, 2))\n",
        "    return env\n",
        "\n",
        "def main():\n",
        "\n",
        "    env = batched_gym_env([partial(make_env)]* workers)\n",
        "    env = BatchedFrameStack(env, num_images=4, concat=False)\n",
        "\n",
        "    checkpoint_dir = os.path.join(os.getcwd(), path+'/'+RUN+'/checkpoints/'+RUN_NUM)\n",
        "    results_dir = os.path.join(os.getcwd(), path+'/'+RUN+'/results/', time.strftime(\"%d-%m-%Y_%H-%M-%S__\")+ RUN_NUM)\n",
        "    if not os.path.exists(results_dir):\n",
        "        os.makedirs(results_dir)\n",
        "    summary_writer = tf.summary.FileWriter(results_dir)\n",
        "\n",
        "    config = tf.ConfigProto()\n",
        "    config.gpu_options.allow_growth = True # pylint: disable=E1101\n",
        "    \n",
        "    \n",
        "    with tf.Session(config=config) as sess:  \n",
        "        \n",
        "        dqn=DQN(*rainbow_models(sess,\n",
        "                              env.action_space.n,\n",
        "                              gym_space_vectorizer(env.observation_space),\n",
        "                              num_atoms=num_atoms,\n",
        "                              min_val=v_min,\n",
        "                              max_val=v_max))\n",
        "\n",
        "        player = NStepPlayer(BatchedPlayer(env, dqn.online_net), n_step)\n",
        "        optimize = dqn.optimize(learning_rate=lr)\n",
        "        sess.run(tf.global_variables_initializer())\n",
        "\n",
        "        if(restore):\n",
        "          tf_state.load_vars(sess,path+\"/\"+RUN+\"/anyrlModel_\"+RUN_RESTORE)\n",
        "\n",
        "        reward_hist = []\n",
        "        total_steps = 0\n",
        "        save_model_steps=100000\n",
        "        episodes=0\n",
        "\n",
        "        def _handle_ep(steps, rew, id):\n",
        "            nonlocal total_steps\n",
        "            nonlocal episodes\n",
        "            nonlocal save_model_steps\n",
        "            total_steps += steps\n",
        "            episodes += 1\n",
        "            reward_hist.append(rew)\n",
        "\n",
        "            summary_reward = tf.Summary()\n",
        "            summary_reward.value.add(tag='global/reward', simple_value=rew)\n",
        "            summary_writer.add_summary(summary_reward, global_step=total_steps)\n",
        "\n",
        "            if len(reward_hist) == REWARD_HISTORY:\n",
        "              print('ID: %d | %d steps | %f mean' % (id,total_steps, sum(reward_hist) / len(reward_hist)))\n",
        "            \n",
        "              summary_meanreward = tf.Summary()\n",
        "              summary_meanreward.value.add(tag='global/mean_reward', simple_value=sum(reward_hist) / len(reward_hist))\n",
        "              summary_writer.add_summary(summary_meanreward, global_step=total_steps)\n",
        "\n",
        "              reward_hist.clear()\n",
        "            if(total_steps>= save_model_steps):\n",
        "              save_model_steps +=100000\n",
        "              print('save model')\n",
        "              tf_state.save_vars(sess,path+\"/\"+RUN+\"/anyrlModel_\"+RUN_NUM)\n",
        "                 \n",
        "        \n",
        "        dqn.train(num_steps=num_steps, \n",
        "                  player=player,\n",
        "                  replay_buffer=ModifiedPrioritizedReplayBuffer(buffer_size, replay_alpha, replay_beta, epsilon=replay_epsilon),\n",
        "                  optimize_op=optimize,\n",
        "                  train_interval=train_interval,\n",
        "                  target_interval=target_interval,\n",
        "                  batch_size=batch_size,\n",
        "                  min_buffer_size=min_buffer_size,\n",
        "                  handle_ep=_handle_ep)\n",
        "        \n",
        "        print('save model')\n",
        "        tf_state.save_vars(sess,path+\"/\"+RUN+\"/anyrlModel_\"+RUN_NUM)\n",
        "    env.close()\n",
        "    \n",
        "\n",
        "if __name__ == '__main__':\n",
        "      main()"
      ],
      "execution_count": 5,
      "outputs": [
        {
          "output_type": "stream",
          "text": [
            "WARNING:tensorflow:From /usr/local/lib/python3.6/dist-packages/anyrl/models/dqn_dist.py:78: The name tf.trainable_variables is deprecated. Please use tf.compat.v1.trainable_variables instead.\n",
            "\n",
            "WARNING:tensorflow:From /usr/local/lib/python3.6/dist-packages/anyrl/models/dqn_dist.py:79: The name tf.variable_scope is deprecated. Please use tf.compat.v1.variable_scope instead.\n",
            "\n",
            "WARNING:tensorflow:From /usr/local/lib/python3.6/dist-packages/anyrl/models/dqn_dist.py:80: The name tf.placeholder is deprecated. Please use tf.compat.v1.placeholder instead.\n",
            "\n",
            "WARNING:tensorflow:From /usr/local/lib/python3.6/dist-packages/anyrl/models/util.py:80: conv2d (from tensorflow.python.layers.convolutional) is deprecated and will be removed in a future version.\n",
            "Instructions for updating:\n",
            "Use `tf.keras.layers.Conv2D` instead.\n",
            "WARNING:tensorflow:From /usr/local/lib/python3.6/dist-packages/tensorflow_core/python/layers/convolutional.py:424: Layer.apply (from tensorflow.python.keras.engine.base_layer) is deprecated and will be removed in a future version.\n",
            "Instructions for updating:\n",
            "Please use `layer.__call__` method instead.\n",
            "WARNING:tensorflow:From /usr/local/lib/python3.6/dist-packages/anyrl/models/dqn_scalar.py:247: The name tf.get_variable is deprecated. Please use tf.compat.v1.get_variable instead.\n",
            "\n",
            "WARNING:tensorflow:From /usr/local/lib/python3.6/dist-packages/anyrl/models/dqn_scalar.py:260: The name tf.random_normal is deprecated. Please use tf.random.normal instead.\n",
            "\n",
            "WARNING:tensorflow:From /usr/local/lib/python3.6/dist-packages/anyrl/models/dqn_dist.py:113: where (from tensorflow.python.ops.array_ops) is deprecated and will be removed in a future version.\n",
            "Instructions for updating:\n",
            "Use tf.where in 2.0, which has the same broadcast rule as np.where\n",
            "WARNING:tensorflow:From /usr/local/lib/python3.6/dist-packages/anyrl/models/dqn_dist.py:273: The name tf.ceil is deprecated. Please use tf.math.ceil instead.\n",
            "\n",
            "WARNING:tensorflow:From /usr/local/lib/python3.6/dist-packages/anyrl/models/dqn_dist.py:289: The name tf.log is deprecated. Please use tf.math.log instead.\n",
            "\n",
            "ID: 8 | 6410 steps | 151.000000 mean\n",
            "ID: 14 | 14021 steps | 200.500000 mean\n",
            "ID: 26 | 22540 steps | 221.000000 mean\n",
            "ID: 39 | 30789 steps | 240.000000 mean\n",
            "ID: 50 | 39337 steps | 212.500000 mean\n",
            "ID: 56 | 48636 steps | 314.500000 mean\n",
            "ID: 70 | 56106 steps | 175.500000 mean\n",
            "ID: 79 | 63941 steps | 215.500000 mean\n",
            "ID: 90 | 70998 steps | 159.000000 mean\n",
            "ID: 100 | 78276 steps | 195.500000 mean\n",
            "ID: 106 | 85406 steps | 186.000000 mean\n",
            "ID: 120 | 91971 steps | 162.000000 mean\n",
            "saving transitions:  100000\n",
            "saving transitions:  100000\n",
            "save model\n"
          ],
          "name": "stdout"
        }
      ]
    },
    {
      "cell_type": "code",
      "metadata": {
        "id": "4v-GqeiDcFLK",
        "colab_type": "code",
        "colab": {
          "base_uri": "https://localhost:8080/",
          "height": 35
        },
        "cellView": "form",
        "outputId": "a3ab97a5-5fd5-4826-b918-7916d465714a"
      },
      "source": [
        "#@title Starting Tensorboard for the logs\n",
        "\n",
        "LOG_DIR = path+'/'+RUN+'/logs/'\n",
        "get_ipython().system_raw(\n",
        "    'tensorboard --logdir {} --host 0.0.0.0 --port 6006 &'\n",
        "    .format(LOG_DIR)\n",
        ")\n",
        "get_ipython().system_raw('./ngrok http 6006 &')\n",
        "!curl -s http://localhost:4040/api/tunnels | python3 -c \\\n",
        "    \"import sys, json; print(json.load(sys.stdin)['tunnels'][0]['public_url'])\""
      ],
      "execution_count": 10,
      "outputs": [
        {
          "output_type": "stream",
          "text": [
            "https://dbe3063a.ngrok.io\n"
          ],
          "name": "stdout"
        }
      ]
    },
    {
      "cell_type": "markdown",
      "metadata": {
        "id": "YHkRd1370TVi",
        "colab_type": "text"
      },
      "source": [
        "Sometimes the ngrok link won't open. If that happens try running:\n",
        "\n",
        "```\n",
        "!tensorboard --logdir=path+'/'+RUN+'/logs/' \n",
        "```\n",
        "\n",
        "And click on the previous link again."
      ]
    },
    {
      "cell_type": "code",
      "metadata": {
        "id": "QOtnAxity_lE",
        "colab_type": "code",
        "colab": {
          "base_uri": "https://localhost:8080/",
          "height": 564
        },
        "cellView": "form",
        "outputId": "c678f79b-91c3-4a4d-82c8-a39b04a29451"
      },
      "source": [
        "#@title Show the newest video of current run\n",
        "\n",
        "from IPython.display import HTML\n",
        "from base64 import b64encode\n",
        "import glob\n",
        "import os\n",
        "\n",
        "list_of_files = glob.glob(path+'/'+RUN+'/videos/'+RUN_NUM+'/*.mp4') # * means all if need specific format then *.csv\n",
        "latest_file = max(list_of_files, key=os.path.getctime)\n",
        "print(latest_file)\n",
        "\n",
        "mp4 = open(latest_file,'rb').read()\n",
        "data_url = \"data:video/mp4;base64,\" + b64encode(mp4).decode()\n",
        "HTML(\"\"\"\n",
        "<video width=400 controls>\n",
        "      <source src=\"%s\" type=\"video/mp4\">\n",
        "</video>\n",
        "\"\"\" % data_url)"
      ],
      "execution_count": 14,
      "outputs": [
        {
          "output_type": "stream",
          "text": [
            "/tmp/anyrl_rainbow/1/videos/1_1/openaigym.video.0.413.video000008.mp4\n"
          ],
          "name": "stdout"
        },
        {
          "output_type": "execute_result",
          "data": {
            "text/html": [
              "\n",
              "<video width=400 controls>\n",
              "      <source src=\"data:video/mp4;base64,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\" type=\"video/mp4\">\n",
              "</video>\n"
            ],
            "text/plain": [
              "<IPython.core.display.HTML object>"
            ]
          },
          "metadata": {
            "tags": []
          },
          "execution_count": 14
        }
      ]
    },
    {
      "cell_type": "markdown",
      "metadata": {
        "id": "U22tyDOWKxck",
        "colab_type": "text"
      },
      "source": [
        "# Links\n",
        "\n",
        "\n",
        "**Q-learning and DQN**\n",
        "* https://www.freecodecamp.org/news/an-introduction-to-q-learning-reinforcement-learning-14ac0b4493cc/\n",
        "* https://www.freecodecamp.org/news/an-introduction-to-deep-q-learning-lets-play-doom-54d02d8017d8/\n",
        "* https://www.freecodecamp.org/news/improvements-in-deep-q-learning-dueling-double-dqn-prioritized-experience-replay-and-fixed-58b130cc5682/\n",
        "* https://medium.com/@jonathan_hui/rl-dqn-deep-q-network-e207751f7ae4\n",
        "\n",
        "* https://web.stanford.edu/class/psych209/Readings/MnihEtAlHassibis15NatureControlDeepRL.pdf\n",
        "\n",
        "**Rainbow Agent**\n",
        "\n",
        "* https://arxiv.org/pdf/1710.02298.pdf\n",
        "* https://medium.com/intelligentunit/conquering-openai-retro-contest-2-demystifying-rainbow-baseline-9d8dd258e74b"
      ]
    }
  ]
}